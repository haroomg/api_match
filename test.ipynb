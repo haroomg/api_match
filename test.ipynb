{
 "cells": [
  {
   "cell_type": "code",
   "execution_count": 1,
   "metadata": {},
   "outputs": [
    {
     "name": "stderr",
     "output_type": "stream",
     "text": [
      "/home/hi4i/programing/api/.venv/lib/python3.9/site-packages/tqdm/auto.py:21: TqdmWarning: IProgress not found. Please update jupyter and ipywidgets. See https://ipywidgets.readthedocs.io/en/stable/user_install.html\n",
      "  from .autonotebook import tqdm as notebook_tqdm\n"
     ]
    }
   ],
   "source": [
    "from app.funtions import download_imgs, compare_img"
   ]
  },
  {
   "cell_type": "code",
   "execution_count": 2,
   "metadata": {},
   "outputs": [],
   "source": [
    "url_img_1 = [\"https://assets.ajio.com/medias/sys_master/root/20221125/qeSW/6380dcd2f997ddfdbd9df167/-78Wx98H-469294020-khaki-MODEL.jpg\", \n",
    "             \"https://assets.ajio.com/medias/sys_master/root/20220906/Zw8j/631644bbaeb269dbb36d3f7e/-78Wx98H-469294020-khaki-MODEL2.jpg\", \n",
    "             \"https://assets.ajio.com/medias/sys_master/root/20220906/mGj3/63167888aeb269dbb36f61a6/-78Wx98H-469294020-khaki-MODEL3.jpg\", \n",
    "             \"https://assets.ajio.com/medias/sys_master/root/20220905/KC2J/6315cb09aeb269dbb36ad532/-78Wx98H-469294020-khaki-MODEL4.jpg\", \n",
    "             \"https://assets.ajio.com/medias/sys_master/root/20220906/bC3D/6316823ff997dd1f8de369e6/-78Wx98H-469294020-khaki-MODEL5.jpg\", \n",
    "             \"https://assets.ajio.com/medias/sys_master/root/20221125/qeSW/6380dcd2f997ddfdbd9df167/-78Wx98H-469294020-khaki-MODEL.jpg\", \n",
    "             \"https://assets.ajio.com/medias/sys_master/root/20220906/Zw8j/631644bbaeb269dbb36d3f7e/-78Wx98H-469294020-khaki-MODEL2.jpg\", \n",
    "             \"https://assets.ajio.com/medias/sys_master/root/20220906/mGj3/63167888aeb269dbb36f61a6/-78Wx98H-469294020-khaki-MODEL3.jpg\", \n",
    "             \"https://assets.ajio.com/medias/sys_master/root/20220905/KC2J/6315cb09aeb269dbb36ad532/-78Wx98H-469294020-khaki-MODEL4.jpg\", \n",
    "             \"https://assets.ajio.com/medias/sys_master/root/20220906/bC3D/6316823ff997dd1f8de369e6/-78Wx98H-469294020-khaki-MODEL5.jpg\", \n",
    "             \"https://assets.ajio.com/medias/sys_master/root/20221125/qeSW/6380dcd2f997ddfdbd9df167/-78Wx98H-469294020-khaki-MODEL.jpg\", \n",
    "             \"https://assets.ajio.com/medias/sys_master/root/20220906/Zw8j/631644bbaeb269dbb36d3f7e/-78Wx98H-469294020-khaki-MODEL2.jpg\", \n",
    "             \"https://assets.ajio.com/medias/sys_master/root/20220906/mGj3/63167888aeb269dbb36f61a6/-78Wx98H-469294020-khaki-MODEL3.jpg\", \n",
    "             \"https://assets.ajio.com/medias/sys_master/root/20220905/KC2J/6315cb09aeb269dbb36ad532/-78Wx98H-469294020-khaki-MODEL4.jpg\", \n",
    "             \"https://assets.ajio.com/medias/sys_master/root/20220906/bC3D/6316823ff997dd1f8de369e6/-78Wx98H-469294020-khaki-MODEL5.jpg\", \n",
    "             \"https://assets.ajio.com/medias/sys_master/root/20221125/qeSW/6380dcd2f997ddfdbd9df141/-473Wx593H-469294020-khaki-MODEL.jpg\", \n",
    "             \"https://assets.ajio.com/medias/sys_master/root/20220906/Zw8j/631644bbaeb269dbb36d3f86/-473Wx593H-469294020-khaki-MODEL2.jpg\", \n",
    "             \"https://assets.ajio.com/medias/sys_master/root/20220906/mGj3/63167888aeb269dbb36f61bc/-473Wx593H-469294020-khaki-MODEL3.jpg\", \n",
    "             \"https://assets.ajio.com/medias/sys_master/root/20220905/KC2J/6315cb09aeb269dbb36ad53d/-473Wx593H-469294020-khaki-MODEL4.jpg\", \n",
    "             \"https://assets.ajio.com/medias/sys_master/root/20220906/bC3D/6316823ff997dd1f8de369f9/-473Wx593H-469294020-khaki-MODEL5.jpg\"]\n",
    "\n",
    "url_img_2 = [\"http://assets.myntassets.com/assets/images/20370500/2022/11/5/86cf76ff-6227-4143-84c5-34e9b83872a01667631401667-NA-KD-Women-Trousers-2441667631400884-1.jpg\", \n",
    "             \"http://assets.myntassets.com/assets/images/20370500/2022/11/5/6b413120-5b98-49c0-ae83-d661899a29d81667631401603-NA-KD-Women-Trousers-2441667631400884-4.jpg\", \n",
    "             \"http://assets.myntassets.com/assets/images/20370500/2022/11/5/9522227b-152d-4f81-a192-928c27b9e7211667631401521-NA-KD-Women-Trousers-2441667631400884-11.jpg\", \n",
    "             \"http://assets.myntassets.com/assets/images/20370500/2022/11/5/0d16095f-4c07-45c7-9b89-13e0eb0092d01667631401542-NA-KD-Women-Trousers-2441667631400884-7.jpg\", \n",
    "             \"http://assets.myntassets.com/assets/images/20370500/2022/11/5/e730bed9-5a3b-4f95-ac2d-b1a6dc4c3bc81667631401583-NA-KD-Women-Trousers-2441667631400884-5.jpg\", \n",
    "             \"http://assets.myntassets.com/assets/images/20370500/2022/11/5/d2c89289-65f0-49ae-8a0f-e84734fa17ba1667631401563-NA-KD-Women-Trousers-2441667631400884-6.jpg\", \n",
    "             \"http://assets.myntassets.com/assets/images/20370500/2022/11/5/755cd30d-4053-4d01-8ab8-5174435e5bc71667631401624-NA-KD-Women-Trousers-2441667631400884-3.jpg\", \n",
    "             \"http://assets.myntassets.com/assets/images/20370500/2022/11/5/8f7e0ef7-8d0f-4ef7-99f1-24bbe05822dc1667631401645-NA-KD-Women-Trousers-2441667631400884-2.jpg\", \n",
    "             \"http://assets.myntassets.com/assets/images/20370500/2022/11/5/86cf76ff-6227-4143-84c5-34e9b83872a01667631401667-NA-KD-Women-Trousers-2441667631400884-1.jpg\"]"
   ]
  },
  {
   "cell_type": "code",
   "execution_count": 3,
   "metadata": {},
   "outputs": [
    {
     "name": "stdout",
     "output_type": "stream",
     "text": [
      "FastDup Software, (C) copyright 2022 Dr. Amir Alush and Dr. Danny Bickson.\n",
      "2024-04-30 14:41:52 [INFO] Going to loop over dir trash/d8dfc47f-a3ee-4587-897f-b88ee8e839a4/img\n",
      "2024-04-30 14:41:52 [INFO] Found total 18 images to run on, 18 train, 0 test, name list 18, counter 18 \n",
      "2024-04-30 14:41:53 [INFO] Found total 18 images to run onEstimated: 0 Minutes\n",
      "Finished histogram 0.018\n",
      "Finished bucket sort 0.129\n",
      "2024-04-30 14:41:53 [INFO] 4) Finished write_index() NN model\n",
      "2024-04-30 14:41:53 [INFO] Stored nn model index file trash/d8dfc47f-a3ee-4587-897f-b88ee8e839a4/fastdup/nnf.index\n",
      "2024-04-30 14:41:53 [INFO] Total time took 1006 ms\n",
      "2024-04-30 14:41:53 [INFO] Found a total of 0 fully identical images (d>0.990), which are 0.00 % of total graph edges\n",
      "2024-04-30 14:41:53 [INFO] Found a total of 0 nearly identical images(d>0.980), which are 0.00 % of total graph edges\n",
      "2024-04-30 14:41:53 [INFO] Found a total of 2 above threshold images (d>0.900), which are 5.56 % of total graph edges\n",
      "2024-04-30 14:41:53 [INFO] Found a total of 1 outlier images         (d<0.050), which are 2.78 % of total graph edges\n",
      "2024-04-30 14:41:53 [INFO] Min similarity found 0.600 max similarity 0.934\n",
      "2024-04-30 14:41:53 [INFO] Running connected components for ccthreshold 0.960000 \n",
      ".0\n",
      " ########################################################################################\n",
      "\n",
      "Dataset Analysis Summary: \n",
      "\n",
      "    Dataset contains 18 images\n",
      "    Valid images are 100.00% (18) of the data, invalid are 0.00% (0) of the data\n",
      "    Components:  failed to find images clustered into components, try to run with lower cc_threshold.\n",
      "    Outliers: 5.56% (1) of images are possible outliers, and fall in the bottom 5.00% of similarity values.\n",
      "    For a detailed list of outliers, use `.outliers()`.\n",
      "\n",
      "########################################################################################\n",
      "Would you like to see awesome visualizations for some of the most popular academic datasets?\n",
      "Click here to see and learn more: https://app.visual-layer.com/vl-datasets?utm_source=fastdup\n",
      "########################################################################################\n"
     ]
    },
    {
     "name": "stderr",
     "output_type": "stream",
     "text": [
      "/home/hi4i/programing/api/.venv/lib/python3.9/site-packages/fastdup/fastdup_controller.py:434: UserWarning: No connected components found, try using a lower threshold\n",
      "  warnings.warn(f'No connected components found, try using a lower threshold')\n"
     ]
    }
   ],
   "source": [
    "result, respaldo = compare_img(url_img_1, url_img_2)"
   ]
  },
  {
   "cell_type": "code",
   "execution_count": 4,
   "metadata": {},
   "outputs": [
    {
     "data": {
      "text/html": [
       "<div>\n",
       "<style scoped>\n",
       "    .dataframe tbody tr th:only-of-type {\n",
       "        vertical-align: middle;\n",
       "    }\n",
       "\n",
       "    .dataframe tbody tr th {\n",
       "        vertical-align: top;\n",
       "    }\n",
       "\n",
       "    .dataframe thead th {\n",
       "        text-align: right;\n",
       "    }\n",
       "</style>\n",
       "<table border=\"1\" class=\"dataframe\">\n",
       "  <thead>\n",
       "    <tr style=\"text-align: right;\">\n",
       "      <th></th>\n",
       "      <th>from</th>\n",
       "      <th>to</th>\n",
       "      <th>distance</th>\n",
       "      <th>filename_from</th>\n",
       "      <th>index_x</th>\n",
       "      <th>error_code_from</th>\n",
       "      <th>is_valid_from</th>\n",
       "      <th>fd_index_from</th>\n",
       "      <th>filename_to</th>\n",
       "      <th>index_y</th>\n",
       "      <th>error_code_to</th>\n",
       "      <th>is_valid_to</th>\n",
       "      <th>fd_index_to</th>\n",
       "    </tr>\n",
       "  </thead>\n",
       "  <tbody>\n",
       "    <tr>\n",
       "      <th>0</th>\n",
       "      <td>1</td>\n",
       "      <td>8</td>\n",
       "      <td>0.933749</td>\n",
       "      <td>trash/d8dfc47f-a3ee-4587-897f-b88ee8e839a4/img/-473Wx593H-469294020-khaki-MODEL2.jpg</td>\n",
       "      <td>1</td>\n",
       "      <td>VALID</td>\n",
       "      <td>True</td>\n",
       "      <td>1</td>\n",
       "      <td>trash/d8dfc47f-a3ee-4587-897f-b88ee8e839a4/img/-78Wx98H-469294020-khaki-MODEL2.jpg</td>\n",
       "      <td>8</td>\n",
       "      <td>VALID</td>\n",
       "      <td>True</td>\n",
       "      <td>8</td>\n",
       "    </tr>\n",
       "    <tr>\n",
       "      <th>1</th>\n",
       "      <td>8</td>\n",
       "      <td>1</td>\n",
       "      <td>0.933749</td>\n",
       "      <td>trash/d8dfc47f-a3ee-4587-897f-b88ee8e839a4/img/-78Wx98H-469294020-khaki-MODEL2.jpg</td>\n",
       "      <td>8</td>\n",
       "      <td>VALID</td>\n",
       "      <td>True</td>\n",
       "      <td>8</td>\n",
       "      <td>trash/d8dfc47f-a3ee-4587-897f-b88ee8e839a4/img/-473Wx593H-469294020-khaki-MODEL2.jpg</td>\n",
       "      <td>1</td>\n",
       "      <td>VALID</td>\n",
       "      <td>True</td>\n",
       "      <td>1</td>\n",
       "    </tr>\n",
       "  </tbody>\n",
       "</table>\n",
       "</div>"
      ],
      "text/plain": [
       "   from  to  distance                                                                         filename_from  index_x error_code_from  is_valid_from  fd_index_from                                                                           filename_to  index_y error_code_to  is_valid_to  fd_index_to\n",
       "0     1   8  0.933749  trash/d8dfc47f-a3ee-4587-897f-b88ee8e839a4/img/-473Wx593H-469294020-khaki-MODEL2.jpg        1           VALID           True              1    trash/d8dfc47f-a3ee-4587-897f-b88ee8e839a4/img/-78Wx98H-469294020-khaki-MODEL2.jpg        8         VALID         True            8\n",
       "1     8   1  0.933749    trash/d8dfc47f-a3ee-4587-897f-b88ee8e839a4/img/-78Wx98H-469294020-khaki-MODEL2.jpg        8           VALID           True              8  trash/d8dfc47f-a3ee-4587-897f-b88ee8e839a4/img/-473Wx593H-469294020-khaki-MODEL2.jpg        1         VALID         True            1"
      ]
     },
     "execution_count": 4,
     "metadata": {},
     "output_type": "execute_result"
    }
   ],
   "source": [
    "respaldo"
   ]
  }
 ],
 "metadata": {
  "kernelspec": {
   "display_name": ".venv",
   "language": "python",
   "name": "python3"
  },
  "language_info": {
   "codemirror_mode": {
    "name": "ipython",
    "version": 3
   },
   "file_extension": ".py",
   "mimetype": "text/x-python",
   "name": "python",
   "nbconvert_exporter": "python",
   "pygments_lexer": "ipython3",
   "version": "3.9.2"
  }
 },
 "nbformat": 4,
 "nbformat_minor": 2
}
