{
 "cells": [
  {
   "cell_type": "code",
   "execution_count": 1,
   "metadata": {},
   "outputs": [
    {
     "name": "stderr",
     "output_type": "stream",
     "text": [
      "/home/hi4i/programing/api/.venv/lib/python3.9/site-packages/tqdm/auto.py:21: TqdmWarning: IProgress not found. Please update jupyter and ipywidgets. See https://ipywidgets.readthedocs.io/en/stable/user_install.html\n",
      "  from .autonotebook import tqdm as notebook_tqdm\n"
     ]
    }
   ],
   "source": [
    "import requests\n",
    "import fastdup\n",
    "import os"
   ]
  },
  {
   "cell_type": "code",
   "execution_count": 2,
   "metadata": {},
   "outputs": [
    {
     "name": "stdout",
     "output_type": "stream",
     "text": [
      "FastDup Software, (C) copyright 2022 Dr. Amir Alush and Dr. Danny Bickson.\n",
      "2024-04-25 16:12:46 [INFO] Going to loop over dir trash/img\n",
      "2024-04-25 16:12:46 [INFO] Found total 5 images to run on, 5 train, 0 test, name list 5, counter 5 \n",
      "2024-04-25 16:12:47 [INFO] Found total 5 images to run on Estimated: 0 Minutes\n",
      "Finished histogram 0.019\n",
      "Finished bucket sort 0.200\n",
      "2024-04-25 16:12:47 [INFO] 6) Finished write_index() NN model\n",
      "2024-04-25 16:12:47 [INFO] Stored nn model index file trash/fastdup/nnf.index\n",
      "2024-04-25 16:12:47 [INFO] Total time took 1011 ms\n",
      "2024-04-25 16:12:47 [INFO] Found a total of 2 fully identical images (d>0.990), which are 20.00 % of total graph edges\n",
      "2024-04-25 16:12:47 [INFO] Found a total of 0 nearly identical images(d>0.980), which are 0.00 % of total graph edges\n",
      "2024-04-25 16:12:47 [INFO] Found a total of 2 above threshold images (d>0.900), which are 20.00 % of total graph edges\n",
      "2024-04-25 16:12:47 [INFO] Found a total of 1 outlier images         (d<0.050), which are 10.00 % of total graph edges\n",
      "2024-04-25 16:12:47 [INFO] Min similarity found 0.209 max similarity 1.000\n",
      "2024-04-25 16:12:47 [INFO] Running connected components for ccthreshold 0.960000 \n",
      ".0\n",
      " ########################################################################################\n",
      "\n",
      "Dataset Analysis Summary: \n",
      "\n",
      "    Dataset contains 5 images\n",
      "    Valid images are 100.00% (5) of the data, invalid are 0.00% (0) of the data\n",
      "    Components:  failed to find images clustered into components, try to run with lower cc_threshold.\n",
      "    Outliers: 20.00% (1) of images are possible outliers, and fall in the bottom 5.00% of similarity values.\n",
      "    For a detailed list of outliers, use `.outliers()`.\n",
      "\n",
      "########################################################################################\n",
      "Would you like to see awesome visualizations for some of the most popular academic datasets?\n",
      "Click here to see and learn more: https://app.visual-layer.com/vl-datasets?utm_source=fastdup\n",
      "########################################################################################\n"
     ]
    }
   ],
   "source": [
    "path = 'trash'\n",
    "\n",
    "fd = fastdup.create(input_dir='trash/img', work_dir='trash/fastdup')\n",
    "fd.run()\n",
    "\n",
    "result = fd.similarity()"
   ]
  },
  {
   "cell_type": "code",
   "execution_count": 3,
   "metadata": {},
   "outputs": [
    {
     "data": {
      "text/html": [
       "<div>\n",
       "<style scoped>\n",
       "    .dataframe tbody tr th:only-of-type {\n",
       "        vertical-align: middle;\n",
       "    }\n",
       "\n",
       "    .dataframe tbody tr th {\n",
       "        vertical-align: top;\n",
       "    }\n",
       "\n",
       "    .dataframe thead th {\n",
       "        text-align: right;\n",
       "    }\n",
       "</style>\n",
       "<table border=\"1\" class=\"dataframe\">\n",
       "  <thead>\n",
       "    <tr style=\"text-align: right;\">\n",
       "      <th></th>\n",
       "      <th>from</th>\n",
       "      <th>to</th>\n",
       "      <th>distance</th>\n",
       "      <th>filename_from</th>\n",
       "      <th>index_x</th>\n",
       "      <th>error_code_from</th>\n",
       "      <th>is_valid_from</th>\n",
       "      <th>fd_index_from</th>\n",
       "      <th>filename_to</th>\n",
       "      <th>index_y</th>\n",
       "      <th>error_code_to</th>\n",
       "      <th>is_valid_to</th>\n",
       "      <th>fd_index_to</th>\n",
       "    </tr>\n",
       "  </thead>\n",
       "  <tbody>\n",
       "    <tr>\n",
       "      <th>0</th>\n",
       "      <td>0</td>\n",
       "      <td>4</td>\n",
       "      <td>1.0</td>\n",
       "      <td>trash/img/Captura.PNG</td>\n",
       "      <td>0</td>\n",
       "      <td>VALID</td>\n",
       "      <td>True</td>\n",
       "      <td>0</td>\n",
       "      <td>trash/img/ejeplo.PNG</td>\n",
       "      <td>4</td>\n",
       "      <td>VALID</td>\n",
       "      <td>True</td>\n",
       "      <td>4</td>\n",
       "    </tr>\n",
       "    <tr>\n",
       "      <th>1</th>\n",
       "      <td>4</td>\n",
       "      <td>0</td>\n",
       "      <td>1.0</td>\n",
       "      <td>trash/img/ejeplo.PNG</td>\n",
       "      <td>4</td>\n",
       "      <td>VALID</td>\n",
       "      <td>True</td>\n",
       "      <td>4</td>\n",
       "      <td>trash/img/Captura.PNG</td>\n",
       "      <td>0</td>\n",
       "      <td>VALID</td>\n",
       "      <td>True</td>\n",
       "      <td>0</td>\n",
       "    </tr>\n",
       "  </tbody>\n",
       "</table>\n",
       "</div>"
      ],
      "text/plain": [
       "   from  to  distance          filename_from  index_x error_code_from  is_valid_from  fd_index_from            filename_to  index_y error_code_to  is_valid_to  fd_index_to\n",
       "0     0   4       1.0  trash/img/Captura.PNG        0           VALID           True              0   trash/img/ejeplo.PNG        4         VALID         True            4\n",
       "1     4   0       1.0   trash/img/ejeplo.PNG        4           VALID           True              4  trash/img/Captura.PNG        0         VALID         True            0"
      ]
     },
     "execution_count": 3,
     "metadata": {},
     "output_type": "execute_result"
    }
   ],
   "source": [
    "result"
   ]
  }
 ],
 "metadata": {
  "kernelspec": {
   "display_name": ".venv",
   "language": "python",
   "name": "python3"
  },
  "language_info": {
   "codemirror_mode": {
    "name": "ipython",
    "version": 3
   },
   "file_extension": ".py",
   "mimetype": "text/x-python",
   "name": "python",
   "nbconvert_exporter": "python",
   "pygments_lexer": "ipython3",
   "version": "3.9.2"
  }
 },
 "nbformat": 4,
 "nbformat_minor": 2
}
